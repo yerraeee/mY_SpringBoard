{
 "cells": [
  {
   "cell_type": "markdown",
   "metadata": {},
   "source": [
    "# XML example and exercise\n",
    "****\n",
    "+ study examples of accessing nodes in XML tree structure  \n",
    "+ work on exercise to be completed and submitted\n",
    "****\n",
    "+ reference: https://docs.python.org/2.7/library/xml.etree.elementtree.html\n",
    "+ data source: http://www.dbis.informatik.uni-goettingen.de/Mondial\n",
    "****"
   ]
  },
  {
   "cell_type": "code",
   "execution_count": 5,
   "metadata": {
    "collapsed": true
   },
   "outputs": [],
   "source": [
    "import re\n",
    "import pandas as pd\n",
    "import numpy as np\n",
    "from numpy import random\n",
    "import matplotlib.pyplot as plt\n",
    "#from StringIO import StringIO #for Python 2\n",
    "from io import StringIO #for Python 3\n",
    "import csv\n",
    "import json\n",
    "from pandas.io.json import json_normalize\n",
    "#from flatten_json import flatten\n",
    "from lxml import etree\n",
    "from xml.etree import ElementTree as ET"
   ]
  },
  {
   "cell_type": "markdown",
   "metadata": {},
   "source": [
    "## XML example\n",
    "\n",
    "+ for details about tree traversal and iterators, see https://docs.python.org/2.7/library/xml.etree.elementtree.html"
   ]
  },
  {
   "cell_type": "code",
   "execution_count": 6,
   "metadata": {
    "collapsed": false
   },
   "outputs": [],
   "source": [
    "document_tree = ET.parse( './data/mondial_database_less.xml' )"
   ]
  },
  {
   "cell_type": "code",
   "execution_count": 7,
   "metadata": {
    "collapsed": false
   },
   "outputs": [
    {
     "name": "stdout",
     "output_type": "stream",
     "text": [
      "Albania\n",
      "Greece\n",
      "Macedonia\n",
      "Serbia\n",
      "Montenegro\n",
      "Kosovo\n",
      "Andorra\n"
     ]
    }
   ],
   "source": [
    "# print names of all countries\n",
    "for child in document_tree.getroot():\n",
    "    print (child.find('name').text)"
   ]
  },
  {
   "cell_type": "code",
   "execution_count": 8,
   "metadata": {
    "collapsed": false
   },
   "outputs": [
    {
     "name": "stdout",
     "output_type": "stream",
     "text": [
      "* Albania:\n",
      "Tirana, Shkodër, Durrës, Vlorë, Elbasan, Korçë\n",
      "* Greece:\n",
      "Komotini, Kavala, Athina, Peiraias, Peristeri, Acharnes, Patra, Kozani, Kerkyra, Ioannina, Thessaloniki, Iraklio, Chania, Ermoupoli, Rhodes, Tripoli, Lamia, Chalkida, Larissa, Volos, Mytilini, Karyes\n",
      "* Macedonia:\n",
      "Skopje, Kumanovo\n",
      "* Serbia:\n",
      "Beograd, Novi Sad, Niš\n",
      "* Montenegro:\n",
      "Podgorica\n",
      "* Kosovo:\n",
      "Prishtine\n",
      "* Andorra:\n",
      "Andorra la Vella\n"
     ]
    }
   ],
   "source": [
    "# print names of all countries and their cities\n",
    "for element in document_tree.iterfind('country'):\n",
    "    print('* ' + element.find('name').text + ':')\n",
    "    capitals_string = ''\n",
    "    for subelement in element.getiterator('city'):\n",
    "        capitals_string += subelement.find('name').text + ', '\n",
    "    print(capitals_string[:-2])"
   ]
  },
  {
   "cell_type": "markdown",
   "metadata": {},
   "source": [
    "****\n",
    "## XML exercise\n",
    "\n",
    "Using data in 'data/mondial_database.xml', the examples above, and refering to https://docs.python.org/2.7/library/xml.etree.elementtree.html, find\n",
    "\n",
    "1. 10 countries with the lowest infant mortality rates\n",
    "2. 10 cities with the largest population\n",
    "3. 10 ethnic groups with the largest overall populations (sum of best/latest estimates over all countries)\n",
    "4. name and country of a) longest river, b) largest lake and c) airport at highest elevation"
   ]
  },
  {
   "cell_type": "code",
   "execution_count": 9,
   "metadata": {
    "collapsed": true
   },
   "outputs": [],
   "source": [
    "document = ET.parse( './data/mondial_database.xml' )\n",
    "root = document.getroot()"
   ]
  },
  {
   "cell_type": "markdown",
   "metadata": {},
   "source": [
    "    1.10 countries with the lowest infant mortality rates"
   ]
  },
  {
   "cell_type": "code",
   "execution_count": 58,
   "metadata": {
    "collapsed": false
   },
   "outputs": [],
   "source": [
    "# contruct DataFrame with infant_mortality for all countries\n",
    "df = pd.DataFrame(np.random.randint(1,size=(len(root.findall('./country/infant_mortality')),2)),\n",
    "                                    columns = ['country','infant_mortality'])\n",
    "i = 0\n",
    "\n",
    "for element in root.iterfind('country'):\n",
    "    if(element.find('infant_mortality') != None):\n",
    "        df.loc[i,'country'] = element.find('name').text\n",
    "        df.loc[i,'infant_mortality'] = element.find('infant_mortality').text\n",
    "        i = i+1\n",
    "        #print('* ' + element.find('name').text + ': '+ element.find('infant_mortality').text)\n"
   ]
  },
  {
   "cell_type": "code",
   "execution_count": 59,
   "metadata": {
    "collapsed": false
   },
   "outputs": [
    {
     "data": {
      "text/html": [
       "<div>\n",
       "<table border=\"1\" class=\"dataframe\">\n",
       "  <thead>\n",
       "    <tr style=\"text-align: right;\">\n",
       "      <th></th>\n",
       "      <th>country</th>\n",
       "      <th>infant_mortality</th>\n",
       "    </tr>\n",
       "  </thead>\n",
       "  <tbody>\n",
       "    <tr>\n",
       "      <th>0</th>\n",
       "      <td>Albania</td>\n",
       "      <td>13.19</td>\n",
       "    </tr>\n",
       "    <tr>\n",
       "      <th>1</th>\n",
       "      <td>Greece</td>\n",
       "      <td>4.78</td>\n",
       "    </tr>\n",
       "    <tr>\n",
       "      <th>2</th>\n",
       "      <td>Macedonia</td>\n",
       "      <td>7.9</td>\n",
       "    </tr>\n",
       "    <tr>\n",
       "      <th>3</th>\n",
       "      <td>Serbia</td>\n",
       "      <td>6.16</td>\n",
       "    </tr>\n",
       "    <tr>\n",
       "      <th>4</th>\n",
       "      <td>Andorra</td>\n",
       "      <td>3.69</td>\n",
       "    </tr>\n",
       "  </tbody>\n",
       "</table>\n",
       "</div>"
      ],
      "text/plain": [
       "     country infant_mortality\n",
       "0    Albania            13.19\n",
       "1     Greece             4.78\n",
       "2  Macedonia              7.9\n",
       "3     Serbia             6.16\n",
       "4    Andorra             3.69"
      ]
     },
     "execution_count": 59,
     "metadata": {},
     "output_type": "execute_result"
    }
   ],
   "source": [
    "df.head()"
   ]
  },
  {
   "cell_type": "code",
   "execution_count": 60,
   "metadata": {
    "collapsed": false
   },
   "outputs": [
    {
     "data": {
      "text/html": [
       "<div>\n",
       "<table border=\"1\" class=\"dataframe\">\n",
       "  <thead>\n",
       "    <tr style=\"text-align: right;\">\n",
       "      <th></th>\n",
       "      <th>country</th>\n",
       "      <th>infant_mortality</th>\n",
       "    </tr>\n",
       "  </thead>\n",
       "  <tbody>\n",
       "    <tr>\n",
       "      <th>36</th>\n",
       "      <td>Monaco</td>\n",
       "      <td>1.81</td>\n",
       "    </tr>\n",
       "    <tr>\n",
       "      <th>28</th>\n",
       "      <td>Romania</td>\n",
       "      <td>10.16</td>\n",
       "    </tr>\n",
       "    <tr>\n",
       "      <th>142</th>\n",
       "      <td>Fiji</td>\n",
       "      <td>10.2</td>\n",
       "    </tr>\n",
       "    <tr>\n",
       "      <th>63</th>\n",
       "      <td>Brunei</td>\n",
       "      <td>10.48</td>\n",
       "    </tr>\n",
       "    <tr>\n",
       "      <th>124</th>\n",
       "      <td>Grenada</td>\n",
       "      <td>10.5</td>\n",
       "    </tr>\n",
       "    <tr>\n",
       "      <th>221</th>\n",
       "      <td>Mauritius</td>\n",
       "      <td>10.59</td>\n",
       "    </tr>\n",
       "    <tr>\n",
       "      <th>116</th>\n",
       "      <td>Panama</td>\n",
       "      <td>10.7</td>\n",
       "    </tr>\n",
       "    <tr>\n",
       "      <th>227</th>\n",
       "      <td>Seychelles</td>\n",
       "      <td>10.77</td>\n",
       "    </tr>\n",
       "    <tr>\n",
       "      <th>94</th>\n",
       "      <td>United Arab Emirates</td>\n",
       "      <td>10.92</td>\n",
       "    </tr>\n",
       "    <tr>\n",
       "      <th>105</th>\n",
       "      <td>Barbados</td>\n",
       "      <td>10.93</td>\n",
       "    </tr>\n",
       "  </tbody>\n",
       "</table>\n",
       "</div>"
      ],
      "text/plain": [
       "                  country infant_mortality\n",
       "36                 Monaco             1.81\n",
       "28                Romania            10.16\n",
       "142                  Fiji             10.2\n",
       "63                 Brunei            10.48\n",
       "124               Grenada             10.5\n",
       "221             Mauritius            10.59\n",
       "116                Panama             10.7\n",
       "227            Seychelles            10.77\n",
       "94   United Arab Emirates            10.92\n",
       "105              Barbados            10.93"
      ]
     },
     "execution_count": 60,
     "metadata": {},
     "output_type": "execute_result"
    }
   ],
   "source": [
    "#list of countries with lowest infant_mortality\n",
    "df.sort_values('infant_mortality').head(10)"
   ]
  },
  {
   "cell_type": "markdown",
   "metadata": {},
   "source": [
    "2.. 10 cities with the largest population\n"
   ]
  },
  {
   "cell_type": "code",
   "execution_count": 115,
   "metadata": {
    "collapsed": false
   },
   "outputs": [
    {
     "data": {
      "text/html": [
       "<div>\n",
       "<table border=\"1\" class=\"dataframe\">\n",
       "  <thead>\n",
       "    <tr style=\"text-align: right;\">\n",
       "      <th></th>\n",
       "      <th>city</th>\n",
       "      <th>year</th>\n",
       "      <th>population</th>\n",
       "      <th>country</th>\n",
       "    </tr>\n",
       "  </thead>\n",
       "  <tbody>\n",
       "    <tr>\n",
       "      <th>0</th>\n",
       "      <td>0</td>\n",
       "      <td>0</td>\n",
       "      <td>0</td>\n",
       "      <td>0</td>\n",
       "    </tr>\n",
       "    <tr>\n",
       "      <th>1</th>\n",
       "      <td>0</td>\n",
       "      <td>0</td>\n",
       "      <td>0</td>\n",
       "      <td>0</td>\n",
       "    </tr>\n",
       "    <tr>\n",
       "      <th>2</th>\n",
       "      <td>0</td>\n",
       "      <td>0</td>\n",
       "      <td>0</td>\n",
       "      <td>0</td>\n",
       "    </tr>\n",
       "    <tr>\n",
       "      <th>3</th>\n",
       "      <td>0</td>\n",
       "      <td>0</td>\n",
       "      <td>0</td>\n",
       "      <td>0</td>\n",
       "    </tr>\n",
       "    <tr>\n",
       "      <th>4</th>\n",
       "      <td>0</td>\n",
       "      <td>0</td>\n",
       "      <td>0</td>\n",
       "      <td>0</td>\n",
       "    </tr>\n",
       "  </tbody>\n",
       "</table>\n",
       "</div>"
      ],
      "text/plain": [
       "   city  year  population  country\n",
       "0     0     0           0        0\n",
       "1     0     0           0        0\n",
       "2     0     0           0        0\n",
       "3     0     0           0        0\n",
       "4     0     0           0        0"
      ]
     },
     "execution_count": 115,
     "metadata": {},
     "output_type": "execute_result"
    }
   ],
   "source": [
    "# contruct DataFrame with Year Vs Population for all cities\n",
    "\n",
    "#creating dummy dataframe\n",
    "data = np.random.randint(1,size=(len(root.findall('./country/city/population')),4))\n",
    "columns = ['city','year','population','country']\n",
    "df_ppl_ct = pd.DataFrame(data,columns=columns)\n",
    "\n",
    "df_ppl_ct.head()\n",
    "#print(len(df_ppl_ct), len(df_ppl))\n",
    "#print(len(root.findall('./country/city/population')))"
   ]
  },
  {
   "cell_type": "code",
   "execution_count": 117,
   "metadata": {
    "collapsed": false
   },
   "outputs": [
    {
     "data": {
      "text/html": [
       "<div>\n",
       "<table border=\"1\" class=\"dataframe\">\n",
       "  <thead>\n",
       "    <tr style=\"text-align: right;\">\n",
       "      <th></th>\n",
       "      <th>city</th>\n",
       "      <th>year</th>\n",
       "      <th>population</th>\n",
       "      <th>country</th>\n",
       "    </tr>\n",
       "  </thead>\n",
       "  <tbody>\n",
       "    <tr>\n",
       "      <th>0</th>\n",
       "      <td>Tirana</td>\n",
       "      <td>1987</td>\n",
       "      <td>192000</td>\n",
       "      <td>Albania</td>\n",
       "    </tr>\n",
       "    <tr>\n",
       "      <th>1</th>\n",
       "      <td>Tirana</td>\n",
       "      <td>1990</td>\n",
       "      <td>244153</td>\n",
       "      <td>Albania</td>\n",
       "    </tr>\n",
       "    <tr>\n",
       "      <th>2</th>\n",
       "      <td>Tirana</td>\n",
       "      <td>2011</td>\n",
       "      <td>418495</td>\n",
       "      <td>Albania</td>\n",
       "    </tr>\n",
       "    <tr>\n",
       "      <th>3</th>\n",
       "      <td>Shkodër</td>\n",
       "      <td>1987</td>\n",
       "      <td>62000</td>\n",
       "      <td>Albania</td>\n",
       "    </tr>\n",
       "    <tr>\n",
       "      <th>4</th>\n",
       "      <td>Shkodër</td>\n",
       "      <td>2011</td>\n",
       "      <td>77075</td>\n",
       "      <td>Albania</td>\n",
       "    </tr>\n",
       "    <tr>\n",
       "      <th>5</th>\n",
       "      <td>Durrës</td>\n",
       "      <td>1987</td>\n",
       "      <td>60000</td>\n",
       "      <td>Albania</td>\n",
       "    </tr>\n",
       "    <tr>\n",
       "      <th>6</th>\n",
       "      <td>Durrës</td>\n",
       "      <td>2011</td>\n",
       "      <td>113249</td>\n",
       "      <td>Albania</td>\n",
       "    </tr>\n",
       "    <tr>\n",
       "      <th>7</th>\n",
       "      <td>Vlorë</td>\n",
       "      <td>1987</td>\n",
       "      <td>56000</td>\n",
       "      <td>Albania</td>\n",
       "    </tr>\n",
       "    <tr>\n",
       "      <th>8</th>\n",
       "      <td>Vlorë</td>\n",
       "      <td>2011</td>\n",
       "      <td>79513</td>\n",
       "      <td>Albania</td>\n",
       "    </tr>\n",
       "    <tr>\n",
       "      <th>9</th>\n",
       "      <td>Elbasan</td>\n",
       "      <td>1987</td>\n",
       "      <td>53000</td>\n",
       "      <td>Albania</td>\n",
       "    </tr>\n",
       "    <tr>\n",
       "      <th>10</th>\n",
       "      <td>Elbasan</td>\n",
       "      <td>2011</td>\n",
       "      <td>78703</td>\n",
       "      <td>Albania</td>\n",
       "    </tr>\n",
       "    <tr>\n",
       "      <th>11</th>\n",
       "      <td>Korçë</td>\n",
       "      <td>1987</td>\n",
       "      <td>52000</td>\n",
       "      <td>Albania</td>\n",
       "    </tr>\n",
       "    <tr>\n",
       "      <th>12</th>\n",
       "      <td>Korçë</td>\n",
       "      <td>2011</td>\n",
       "      <td>51152</td>\n",
       "      <td>Albania</td>\n",
       "    </tr>\n",
       "    <tr>\n",
       "      <th>13</th>\n",
       "      <td>Skopje</td>\n",
       "      <td>2002</td>\n",
       "      <td>506926</td>\n",
       "      <td>Macedonia</td>\n",
       "    </tr>\n",
       "    <tr>\n",
       "      <th>14</th>\n",
       "      <td>Skopje</td>\n",
       "      <td>2011</td>\n",
       "      <td>514967</td>\n",
       "      <td>Macedonia</td>\n",
       "    </tr>\n",
       "  </tbody>\n",
       "</table>\n",
       "</div>"
      ],
      "text/plain": [
       "       city  year population    country\n",
       "0    Tirana  1987     192000    Albania\n",
       "1    Tirana  1990     244153    Albania\n",
       "2    Tirana  2011     418495    Albania\n",
       "3   Shkodër  1987      62000    Albania\n",
       "4   Shkodër  2011      77075    Albania\n",
       "5    Durrës  1987      60000    Albania\n",
       "6    Durrës  2011     113249    Albania\n",
       "7     Vlorë  1987      56000    Albania\n",
       "8     Vlorë  2011      79513    Albania\n",
       "9   Elbasan  1987      53000    Albania\n",
       "10  Elbasan  2011      78703    Albania\n",
       "11    Korçë  1987      52000    Albania\n",
       "12    Korçë  2011      51152    Albania\n",
       "13   Skopje  2002     506926  Macedonia\n",
       "14   Skopje  2011     514967  Macedonia"
      ]
     },
     "execution_count": 117,
     "metadata": {},
     "output_type": "execute_result"
    }
   ],
   "source": [
    "i = 0\n",
    "j = 0\n",
    "k = 0\n",
    "for element in root.iterfind(\"./country\"):\n",
    "    for subelement in element.iterfind(\"city\"):\n",
    "        for pplelement in subelement.iterfind(\"population\"):\n",
    "            df_ppl_ct.loc[k,'city'] = subelement.find('name').text\n",
    "            df_ppl_ct.loc[k,'year'] = pplelement.get('year')\n",
    "            df_ppl_ct.loc[k,'population'] = pplelement.text\n",
    "            df_ppl_ct.loc[k,'country'] = element.find('name').text\n",
    "            k=k+1\n",
    "        j=j+1\n",
    "    i=i+1\n",
    "\n",
    "df_ppl_ct.head(15)"
   ]
  },
  {
   "cell_type": "code",
   "execution_count": 223,
   "metadata": {
    "collapsed": false,
    "scrolled": true
   },
   "outputs": [
    {
     "name": "stdout",
     "output_type": "stream",
     "text": [
      "2. 10 cities with the largest population: \n",
      "\n",
      "                 city  year  population      country\n",
      "315            Seoul  2010     9708483  South Korea\n",
      "16        Al Qahirah  2006     8471859        Egypt\n",
      "43           Bangkok  1999     7506700     Thailand\n",
      "158        Hong Kong  2009     7055071    Hong Kong\n",
      "157      Ho Chi Minh  2009     5968384      Vietnam\n",
      "321        Singapore  2010     5076700    Singapore\n",
      "9    Al Iskandariyah  2006     4123869        Egypt\n",
      "253       New Taipei  2012     3939305       Taiwan\n",
      "74             Busan  2010     3403135  South Korea\n",
      "285        Pyongyang  2008     3255288  North Korea\n"
     ]
    }
   ],
   "source": [
    "df_ppl_ct.year = pd.to_numeric(df_ppl_ct.year)\n",
    "df_ppl_ct.population =pd.to_numeric(df_ppl_ct.population)\n",
    "dfppl = pd.DataFrame(df_ppl_ct.groupby(['city']).year.max()).reset_index()\n",
    "\n",
    "dfppl = dfppl.merge(df_ppl_ct,how = 'inner', on = ['city','year'])\n",
    "\n",
    "\n",
    "print('2. 10 cities with the largest population: \\n\\n',dfppl.sort_values('population',ascending = False).head(10))"
   ]
  },
  {
   "cell_type": "markdown",
   "metadata": {},
   "source": [
    "3.. 10 ethnic groups with the largest overall populations (sum of best/latest estimates over all countries)"
   ]
  },
  {
   "cell_type": "code",
   "execution_count": 234,
   "metadata": {
    "collapsed": false
   },
   "outputs": [
    {
     "name": "stdout",
     "output_type": "stream",
     "text": [
      "   country  year  population\n",
      "0        0     0           0\n",
      "1        0     0           0\n",
      "2        0     0           0\n",
      "3        0     0           0\n",
      "4        0     0           0\n",
      "   country  ethnic_grp  %population\n",
      "0        0           0            0\n",
      "1        0           0            0\n",
      "2        0           0            0\n",
      "3        0           0            0\n",
      "4        0           0            0\n"
     ]
    }
   ],
   "source": [
    "# contruct DataFrames for Year Vs Population  and ethnic_group data from all countries\n",
    "\n",
    "#creating dummy dataframe for population\n",
    "data = np.random.randint(1,size=(len(root.findall('./country/population')),3))\n",
    "columns = ['country','year','population']\n",
    "df_ppl = pd.DataFrame(data,columns=columns)\n",
    "\n",
    "print(df_ppl.head())\n",
    "\n",
    "#creating dummy dataframe for ethnic_group\n",
    "data = np.random.randint(1,size=(len(root.findall('./country/ethnicgroup')),3))\n",
    "columns = ['country','ethnic_grp','%population']\n",
    "df_eth = pd.DataFrame(data,columns=columns)\n",
    "print(df_eth.head())"
   ]
  },
  {
   "cell_type": "code",
   "execution_count": 240,
   "metadata": {
    "collapsed": false
   },
   "outputs": [
    {
     "name": "stdout",
     "output_type": "stream",
     "text": [
      "\n",
      " population dataframe: \n",
      "\n",
      "    country  year population\n",
      "0  Albania  1950    1214489\n",
      "1  Albania  1960    1618829\n",
      "\n",
      "\n",
      "\n",
      " ethnic_group dataframe: \n",
      "\n",
      "    country ethnic_grp %population\n",
      "0  Albania   Albanian          95\n",
      "1  Albania      Greek           3\n"
     ]
    }
   ],
   "source": [
    "#Extrating population data from xml source.\n",
    "i = 0\n",
    "j = 0\n",
    "for element in root.iterfind(\"./country\"):\n",
    "    for subelement in root[i].iterfind(\"population\"):\n",
    "        df_ppl.loc[j,'country'] = root[i].find('name').text\n",
    "        df_ppl.loc[j,'year'] = subelement.get('year')\n",
    "        df_ppl.loc[j,'population'] = subelement.text\n",
    "        j = j+1\n",
    "    i=i+1\n",
    "\n",
    "print('\\n population dataframe: \\n\\n', df_ppl.head(2))\n",
    "\n",
    "#Extrating ethnic_group data from xml source.\n",
    "i = 0\n",
    "j = 0\n",
    "for element in root.iterfind(\"./country\"):\n",
    "    for subelement in root[i].iterfind(\"ethnicgroup\"):\n",
    "        df_eth.loc[j,'country'] = root[i].find('name').text\n",
    "        df_eth.loc[j,'ethnic_grp'] = subelement.text\n",
    "        df_eth.loc[j,'%population'] = subelement.get('percentage')\n",
    "        j = j+1\n",
    "    i=i+1\n",
    "\n",
    "print('\\n\\n\\n ethnic_group dataframe: \\n\\n', df_eth.head(2))"
   ]
  },
  {
   "cell_type": "code",
   "execution_count": 233,
   "metadata": {
    "collapsed": false
   },
   "outputs": [
    {
     "data": {
      "text/html": [
       "<div>\n",
       "<table border=\"1\" class=\"dataframe\">\n",
       "  <thead>\n",
       "    <tr style=\"text-align: right;\">\n",
       "      <th></th>\n",
       "      <th>country</th>\n",
       "      <th>year</th>\n",
       "      <th>population</th>\n",
       "    </tr>\n",
       "  </thead>\n",
       "  <tbody>\n",
       "    <tr>\n",
       "      <th>0</th>\n",
       "      <td>Afghanistan</td>\n",
       "      <td>2013</td>\n",
       "      <td>26023100</td>\n",
       "    </tr>\n",
       "    <tr>\n",
       "      <th>1</th>\n",
       "      <td>Albania</td>\n",
       "      <td>2011</td>\n",
       "      <td>2800138</td>\n",
       "    </tr>\n",
       "    <tr>\n",
       "      <th>2</th>\n",
       "      <td>Algeria</td>\n",
       "      <td>2010</td>\n",
       "      <td>37062820</td>\n",
       "    </tr>\n",
       "    <tr>\n",
       "      <th>3</th>\n",
       "      <td>American Samoa</td>\n",
       "      <td>2010</td>\n",
       "      <td>55519</td>\n",
       "    </tr>\n",
       "    <tr>\n",
       "      <th>4</th>\n",
       "      <td>Andorra</td>\n",
       "      <td>2011</td>\n",
       "      <td>78115</td>\n",
       "    </tr>\n",
       "  </tbody>\n",
       "</table>\n",
       "</div>"
      ],
      "text/plain": [
       "          country  year population\n",
       "0     Afghanistan  2013   26023100\n",
       "1         Albania  2011    2800138\n",
       "2         Algeria  2010   37062820\n",
       "3  American Samoa  2010      55519\n",
       "4         Andorra  2011      78115"
      ]
     },
     "execution_count": 233,
     "metadata": {},
     "output_type": "execute_result"
    }
   ],
   "source": [
    "#latest population data from countries\n",
    "ppl = pd.DataFrame(df_ppl.groupby(['country']).year.max()).reset_index()\n",
    "ppl = ppl.merge(df_ppl,on = ['country','year'],how='inner')\n",
    "ppl.head()"
   ]
  },
  {
   "cell_type": "code",
   "execution_count": 277,
   "metadata": {
    "collapsed": false
   },
   "outputs": [
    {
     "data": {
      "text/html": [
       "<div>\n",
       "<table border=\"1\" class=\"dataframe\">\n",
       "  <thead>\n",
       "    <tr style=\"text-align: right;\">\n",
       "      <th></th>\n",
       "      <th>country</th>\n",
       "      <th>ethnic_grp</th>\n",
       "      <th>%population</th>\n",
       "      <th>year</th>\n",
       "      <th>population</th>\n",
       "      <th>eth_population</th>\n",
       "    </tr>\n",
       "  </thead>\n",
       "  <tbody>\n",
       "    <tr>\n",
       "      <th>0</th>\n",
       "      <td>Albania</td>\n",
       "      <td>Albanian</td>\n",
       "      <td>95.0</td>\n",
       "      <td>2011</td>\n",
       "      <td>2800138</td>\n",
       "      <td>2.660131e+06</td>\n",
       "    </tr>\n",
       "    <tr>\n",
       "      <th>1</th>\n",
       "      <td>Albania</td>\n",
       "      <td>Greek</td>\n",
       "      <td>3.0</td>\n",
       "      <td>2011</td>\n",
       "      <td>2800138</td>\n",
       "      <td>8.400414e+04</td>\n",
       "    </tr>\n",
       "    <tr>\n",
       "      <th>2</th>\n",
       "      <td>Greece</td>\n",
       "      <td>Greek</td>\n",
       "      <td>93.0</td>\n",
       "      <td>2011</td>\n",
       "      <td>10816286</td>\n",
       "      <td>1.005915e+07</td>\n",
       "    </tr>\n",
       "    <tr>\n",
       "      <th>3</th>\n",
       "      <td>Macedonia</td>\n",
       "      <td>Macedonian</td>\n",
       "      <td>64.2</td>\n",
       "      <td>2011</td>\n",
       "      <td>2059794</td>\n",
       "      <td>1.322388e+06</td>\n",
       "    </tr>\n",
       "    <tr>\n",
       "      <th>4</th>\n",
       "      <td>Macedonia</td>\n",
       "      <td>Albanian</td>\n",
       "      <td>25.2</td>\n",
       "      <td>2011</td>\n",
       "      <td>2059794</td>\n",
       "      <td>5.190681e+05</td>\n",
       "    </tr>\n",
       "  </tbody>\n",
       "</table>\n",
       "</div>"
      ],
      "text/plain": [
       "     country  ethnic_grp  %population  year  population  eth_population\n",
       "0    Albania    Albanian         95.0  2011     2800138    2.660131e+06\n",
       "1    Albania       Greek          3.0  2011     2800138    8.400414e+04\n",
       "2     Greece       Greek         93.0  2011    10816286    1.005915e+07\n",
       "3  Macedonia  Macedonian         64.2  2011     2059794    1.322388e+06\n",
       "4  Macedonia    Albanian         25.2  2011     2059794    5.190681e+05"
      ]
     },
     "execution_count": 277,
     "metadata": {},
     "output_type": "execute_result"
    }
   ],
   "source": [
    "#Merging population and ethnic_group data frames\n",
    "\n",
    "eth_wrld = df_eth.merge(ppl, on=['country'], how='inner')\n",
    "eth_wrld.year = pd.to_numeric(eth_wrld.year)\n",
    "eth_wrld['%population'] = pd.to_numeric(eth_wrld['%population'])\n",
    "eth_wrld.population = pd.to_numeric(eth_wrld.population)\n",
    "eth_wrld = eth_wrld.assign(eth_population = eth_wrld.population*(eth_wrld['%population']/100))\n",
    "#pd.DataFrame(eth_wrld,eth_wrld.population*(eth_wrld['%population']/100)],\n",
    "#                                       columns =list(eth_wrld.columns)+['eth_population'])\n",
    "eth_wrld.head()"
   ]
  },
  {
   "cell_type": "code",
   "execution_count": 289,
   "metadata": {
    "collapsed": false
   },
   "outputs": [
    {
     "data": {
      "text/html": [
       "<div>\n",
       "<table border=\"1\" class=\"dataframe\">\n",
       "  <thead>\n",
       "    <tr style=\"text-align: right;\">\n",
       "      <th></th>\n",
       "      <th>country</th>\n",
       "      <th>ethnic_grp</th>\n",
       "      <th>%population</th>\n",
       "      <th>year</th>\n",
       "      <th>population</th>\n",
       "      <th>eth_population</th>\n",
       "    </tr>\n",
       "  </thead>\n",
       "  <tbody>\n",
       "    <tr>\n",
       "      <th>0</th>\n",
       "      <td>Uganda</td>\n",
       "      <td>Acholi</td>\n",
       "      <td>4.0</td>\n",
       "      <td>2014</td>\n",
       "      <td>34856813</td>\n",
       "      <td>1.394273e+06</td>\n",
       "    </tr>\n",
       "    <tr>\n",
       "      <th>1</th>\n",
       "      <td>Ethiopia</td>\n",
       "      <td>Afar</td>\n",
       "      <td>1.7</td>\n",
       "      <td>2012</td>\n",
       "      <td>84320987</td>\n",
       "      <td>1.433457e+06</td>\n",
       "    </tr>\n",
       "    <tr>\n",
       "      <th>2</th>\n",
       "      <td>Djibouti</td>\n",
       "      <td>Afar</td>\n",
       "      <td>35.0</td>\n",
       "      <td>2010</td>\n",
       "      <td>834036</td>\n",
       "      <td>2.919126e+05</td>\n",
       "    </tr>\n",
       "    <tr>\n",
       "      <th>3</th>\n",
       "      <td>Andorra</td>\n",
       "      <td>African</td>\n",
       "      <td>5.0</td>\n",
       "      <td>2011</td>\n",
       "      <td>78115</td>\n",
       "      <td>3.905750e+03</td>\n",
       "    </tr>\n",
       "    <tr>\n",
       "      <th>4</th>\n",
       "      <td>Nigeria</td>\n",
       "      <td>African</td>\n",
       "      <td>99.0</td>\n",
       "      <td>2011</td>\n",
       "      <td>164294516</td>\n",
       "      <td>1.626516e+08</td>\n",
       "    </tr>\n",
       "  </tbody>\n",
       "</table>\n",
       "</div>"
      ],
      "text/plain": [
       "    country ethnic_grp  %population  year  population  eth_population\n",
       "0    Uganda     Acholi          4.0  2014    34856813    1.394273e+06\n",
       "1  Ethiopia       Afar          1.7  2012    84320987    1.433457e+06\n",
       "2  Djibouti       Afar         35.0  2010      834036    2.919126e+05\n",
       "3   Andorra    African          5.0  2011       78115    3.905750e+03\n",
       "4   Nigeria    African         99.0  2011   164294516    1.626516e+08"
      ]
     },
     "execution_count": 289,
     "metadata": {},
     "output_type": "execute_result"
    }
   ],
   "source": [
    "eth_wrld = eth_wrld.sort_values('ethnic_grp').reset_index(drop = True)\n",
    "\n",
    "eth_wrld.head()"
   ]
  },
  {
   "cell_type": "code",
   "execution_count": 297,
   "metadata": {
    "collapsed": false
   },
   "outputs": [
    {
     "name": "stdout",
     "output_type": "stream",
     "text": [
      "Top 10 Ethnic groups in the world: \n",
      "\n",
      "     ethnic_grp  eth_population\n",
      "0  Han Chinese    1.245059e+09\n",
      "1   Indo-Aryan    8.718156e+08\n",
      "2     European    4.948722e+08\n",
      "3      African    3.183251e+08\n",
      "4    Dravidian    3.027137e+08\n",
      "5      Mestizo    1.577344e+08\n",
      "6      Bengali    1.467769e+08\n",
      "7      Russian    1.318570e+08\n",
      "8     Japanese    1.265342e+08\n",
      "9        Malay    1.219936e+08\n"
     ]
    }
   ],
   "source": [
    "#Top 10 Ethnic groups in the world.\n",
    "print('Top 10 Ethnic groups in the world: \\n\\n',\n",
    "pd.DataFrame(eth_wrld.groupby(['ethnic_grp'])['eth_population'].sum()).reset_index().sort_values('eth_population',ascending = False).head(10).reset_index(drop = True)\n",
    "     )"
   ]
  },
  {
   "cell_type": "code",
   "execution_count": null,
   "metadata": {
    "collapsed": true
   },
   "outputs": [],
   "source": [
    "# \n",
    "\n",
    "data = np.random.randint(1,size=(len(root.findall('./country/population')),3))\n",
    "columns = ['country','year','population']\n",
    "df_ppl = pd.DataFrame(data,columns=columns)\n",
    "\n",
    "df_ppl.head()"
   ]
  },
  {
   "cell_type": "markdown",
   "metadata": {},
   "source": [
    "4..  name and country of a) longest river, b) largest lake and c) airport at highest elevation"
   ]
  },
  {
   "cell_type": "code",
   "execution_count": 329,
   "metadata": {
    "collapsed": false
   },
   "outputs": [
    {
     "name": "stdout",
     "output_type": "stream",
     "text": [
      "\n",
      "4. a) logest river is:  Amazonas , its length is  6448.0  and it is located in country(s):  CO BR PE\n",
      "\n",
      "4. b) largest lake is:  Caspian Sea , its area is  386400.0  and it is located in country(s):  R AZ KAZ IR TM\n",
      "\n",
      "4. c) airport at highest elevation is:  El Alto Intl , its elevation is  4063.0  and it is located in country(s):  BOL\n"
     ]
    }
   ],
   "source": [
    "#Extracting details of Longest river\n",
    "\n",
    "longest_river = \"\"\n",
    "long_rvr_country = \"\"\n",
    "rvr_length = 0.0\n",
    "for element in root.iterfind(\"river\"):\n",
    "    if element.find(\"length\") != None:\n",
    "        if float(element.find(\"length\").text) > rvr_length:\n",
    "            longest_river = element.find(\"name\").text\n",
    "            rvr_length = float(element.find(\"length\").text)\n",
    "            long_rvr_country = element.get(\"country\")\n",
    "\n",
    "print(\"\\n4. a) logest river is: \",longest_river,\", its length is \",rvr_length,\" and it is located in country(s): \",long_rvr_country)\n",
    "\n",
    "\n",
    "#Extracting details of Largest lake\n",
    "largest_lake = \"\"\n",
    "large_lake_country = \"\"\n",
    "lake_area = 0.0\n",
    "for element in root.iterfind(\"lake\"):\n",
    "    if element.find(\"area\") != None:\n",
    "        if float(element.find(\"area\").text) > lake_area:\n",
    "            largest_lake = element.find(\"name\").text\n",
    "            lake_area = float(element.find(\"area\").text)\n",
    "            large_lake_country = element.get(\"country\")\n",
    "\n",
    "print(\"\\n4. b) largest lake is: \",largest_lake,\", its area is \",lake_area,\" and it is located in country(s): \",large_lake_country)\n",
    "\n",
    "\n",
    "#Extracting details of airport at highest elevation\n",
    "higth_airport = \"\"\n",
    "aiport_country = \"\"\n",
    "airport_elevation = 0.0\n",
    "for element in root.iterfind(\"airport\"):\n",
    "    if element.find(\"elevation\") != None:\n",
    "        if element.find(\"elevation\").text != None:\n",
    "            if float(element.find(\"elevation\").text) > airport_elevation:\n",
    "                higth_airport = element.find(\"name\").text\n",
    "                airport_elevation = float(element.find(\"elevation\").text)\n",
    "                aiport_country = element.get(\"country\")\n",
    "\n",
    "print(\"\\n4. c) airport at highest elevation is: \",higth_airport,\", its elevation is \",airport_elevation,\" and it is located in country(s): \",aiport_country)\n",
    "        \n"
   ]
  },
  {
   "cell_type": "code",
   "execution_count": null,
   "metadata": {
    "collapsed": false
   },
   "outputs": [],
   "source": []
  }
 ],
 "metadata": {
  "kernelspec": {
   "display_name": "Python 3",
   "language": "python",
   "name": "python3"
  },
  "language_info": {
   "codemirror_mode": {
    "name": "ipython",
    "version": 3
   },
   "file_extension": ".py",
   "mimetype": "text/x-python",
   "name": "python",
   "nbconvert_exporter": "python",
   "pygments_lexer": "ipython3",
   "version": "3.6.0"
  }
 },
 "nbformat": 4,
 "nbformat_minor": 0
}
