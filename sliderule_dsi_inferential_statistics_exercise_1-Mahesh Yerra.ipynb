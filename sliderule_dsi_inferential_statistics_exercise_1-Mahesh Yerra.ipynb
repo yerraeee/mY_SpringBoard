{
 "cells": [
  {
   "cell_type": "markdown",
   "metadata": {},
   "source": [
    "# What is the True Normal Human Body Temperature? \n",
    "\n",
    "#### Background\n",
    "\n",
    "The mean normal body temperature was held to be 37$^{\\circ}$C or 98.6$^{\\circ}$F for more than 120 years since it was first conceptualized and reported by Carl Wunderlich in a famous 1868 book. But, is this value statistically correct?"
   ]
  },
  {
   "cell_type": "markdown",
   "metadata": {},
   "source": [
    "<div class=\"span5 alert alert-info\">\n",
    "<h3>Exercises</h3>\n",
    "\n",
    "<p>In this exercise, you will analyze a dataset of human body temperatures and employ the concepts of hypothesis testing, confidence intervals, and statistical significance.</p>\n",
    "\n",
    "<p>Answer the following questions <b>in this notebook below and submit to your Github account</b>.</p> \n",
    "\n",
    "<ol>\n",
    "<li>  Is the distribution of body temperatures normal? \n",
    "    <ul>\n",
    "    <li> Although this is not a requirement for CLT to hold (read CLT carefully), it gives us some peace of mind that the population may also be normally distributed if we assume that this sample is representative of the population.\n",
    "    </ul>\n",
    "<li>  Is the sample size large? Are the observations independent?\n",
    "    <ul>\n",
    "    <li> Remember that this is a condition for the CLT, and hence the statistical tests we are using, to apply.\n",
    "    </ul>\n",
    "<li>  Is the true population mean really 98.6 degrees F?\n",
    "    <ul>\n",
    "    <li> Would you use a one-sample or two-sample test? Why?\n",
    "    <li> In this situation, is it appropriate to use the $t$ or $z$ statistic? \n",
    "    <li> Now try using the other test. How is the result be different? Why?\n",
    "    </ul>\n",
    "<li>  At what temperature should we consider someone's temperature to be \"abnormal\"?\n",
    "    <ul>\n",
    "    <li> Start by computing the margin of error and confidence interval.\n",
    "    </ul>\n",
    "<li>  Is there a significant difference between males and females in normal temperature?\n",
    "    <ul>\n",
    "    <li> What test did you use and why?\n",
    "    <li> Write a story with your conclusion in the context of the original problem.\n",
    "    </ul>\n",
    "</ol>\n",
    "\n",
    "You can include written notes in notebook cells using Markdown: \n",
    "   - In the control panel at the top, choose Cell > Cell Type > Markdown\n",
    "   - Markdown syntax: http://nestacms.com/docs/creating-content/markdown-cheat-sheet\n",
    "\n",
    "#### Resources\n",
    "\n",
    "+ Information and data sources: http://www.amstat.org/publications/jse/datasets/normtemp.txt, http://www.amstat.org/publications/jse/jse_data_archive.htm\n",
    "+ Markdown syntax: http://nestacms.com/docs/creating-content/markdown-cheat-sheet\n",
    "\n",
    "****\n",
    "</div>"
   ]
  },
  {
   "cell_type": "code",
   "execution_count": 49,
   "metadata": {
    "collapsed": true
   },
   "outputs": [],
   "source": [
    "import pandas as pd\n",
    "import numpy as np\n",
    "import matplotlib.pyplot as plt\n",
    "%matplotlib inline\n",
    "import scipy.stats as st\n",
    "from scipy.stats import norm\n",
    "import seaborn as sb\n",
    "\n",
    "df = pd.read_csv('data/human_body_temperature.csv')"
   ]
  },
  {
   "cell_type": "code",
   "execution_count": 3,
   "metadata": {
    "collapsed": false
   },
   "outputs": [
    {
     "data": {
      "text/html": [
       "<div>\n",
       "<table border=\"1\" class=\"dataframe\">\n",
       "  <thead>\n",
       "    <tr style=\"text-align: right;\">\n",
       "      <th></th>\n",
       "      <th>temperature</th>\n",
       "      <th>gender</th>\n",
       "      <th>heart_rate</th>\n",
       "    </tr>\n",
       "  </thead>\n",
       "  <tbody>\n",
       "    <tr>\n",
       "      <th>0</th>\n",
       "      <td>99.3</td>\n",
       "      <td>F</td>\n",
       "      <td>68.0</td>\n",
       "    </tr>\n",
       "    <tr>\n",
       "      <th>1</th>\n",
       "      <td>98.4</td>\n",
       "      <td>F</td>\n",
       "      <td>81.0</td>\n",
       "    </tr>\n",
       "    <tr>\n",
       "      <th>2</th>\n",
       "      <td>97.8</td>\n",
       "      <td>M</td>\n",
       "      <td>73.0</td>\n",
       "    </tr>\n",
       "    <tr>\n",
       "      <th>3</th>\n",
       "      <td>99.2</td>\n",
       "      <td>F</td>\n",
       "      <td>66.0</td>\n",
       "    </tr>\n",
       "    <tr>\n",
       "      <th>4</th>\n",
       "      <td>98.0</td>\n",
       "      <td>F</td>\n",
       "      <td>73.0</td>\n",
       "    </tr>\n",
       "  </tbody>\n",
       "</table>\n",
       "</div>"
      ],
      "text/plain": [
       "   temperature gender  heart_rate\n",
       "0         99.3      F        68.0\n",
       "1         98.4      F        81.0\n",
       "2         97.8      M        73.0\n",
       "3         99.2      F        66.0\n",
       "4         98.0      F        73.0"
      ]
     },
     "execution_count": 3,
     "metadata": {},
     "output_type": "execute_result"
    }
   ],
   "source": [
    "# Your work here.\n",
    "df.head()"
   ]
  },
  {
   "cell_type": "code",
   "execution_count": 5,
   "metadata": {
    "collapsed": false
   },
   "outputs": [
    {
     "data": {
      "text/html": [
       "<div>\n",
       "<table border=\"1\" class=\"dataframe\">\n",
       "  <thead>\n",
       "    <tr style=\"text-align: right;\">\n",
       "      <th></th>\n",
       "      <th>temperature</th>\n",
       "      <th>heart_rate</th>\n",
       "    </tr>\n",
       "  </thead>\n",
       "  <tbody>\n",
       "    <tr>\n",
       "      <th>count</th>\n",
       "      <td>130.000000</td>\n",
       "      <td>130.000000</td>\n",
       "    </tr>\n",
       "    <tr>\n",
       "      <th>mean</th>\n",
       "      <td>98.249231</td>\n",
       "      <td>73.761538</td>\n",
       "    </tr>\n",
       "    <tr>\n",
       "      <th>std</th>\n",
       "      <td>0.733183</td>\n",
       "      <td>7.062077</td>\n",
       "    </tr>\n",
       "    <tr>\n",
       "      <th>min</th>\n",
       "      <td>96.300000</td>\n",
       "      <td>57.000000</td>\n",
       "    </tr>\n",
       "    <tr>\n",
       "      <th>25%</th>\n",
       "      <td>97.800000</td>\n",
       "      <td>69.000000</td>\n",
       "    </tr>\n",
       "    <tr>\n",
       "      <th>50%</th>\n",
       "      <td>98.300000</td>\n",
       "      <td>74.000000</td>\n",
       "    </tr>\n",
       "    <tr>\n",
       "      <th>75%</th>\n",
       "      <td>98.700000</td>\n",
       "      <td>79.000000</td>\n",
       "    </tr>\n",
       "    <tr>\n",
       "      <th>max</th>\n",
       "      <td>100.800000</td>\n",
       "      <td>89.000000</td>\n",
       "    </tr>\n",
       "  </tbody>\n",
       "</table>\n",
       "</div>"
      ],
      "text/plain": [
       "       temperature  heart_rate\n",
       "count   130.000000  130.000000\n",
       "mean     98.249231   73.761538\n",
       "std       0.733183    7.062077\n",
       "min      96.300000   57.000000\n",
       "25%      97.800000   69.000000\n",
       "50%      98.300000   74.000000\n",
       "75%      98.700000   79.000000\n",
       "max     100.800000   89.000000"
      ]
     },
     "execution_count": 5,
     "metadata": {},
     "output_type": "execute_result"
    }
   ],
   "source": [
    "df.describe()"
   ]
  },
  {
   "cell_type": "code",
   "execution_count": 162,
   "metadata": {
    "collapsed": false
   },
   "outputs": [
    {
     "name": "stdout",
     "output_type": "stream",
     "text": [
      "\n",
      " normal test results of termperature distribution: \n",
      " statistic= 2.703801, p-value = 0.258748\n"
     ]
    },
    {
     "data": {
      "image/png": "[encoded data removed]",
      "text/plain": [
       "<matplotlib.figure.Figure at 0x7f364f05d5f8>"
      ]
     },
     "metadata": {},
     "output_type": "display_data"
    },
    {
     "data": {
      "image/png": "[encoded data removed]",
      "text/plain": [
       "<matplotlib.figure.Figure at 0x7f364e341b38>"
      ]
     },
     "metadata": {},
     "output_type": "display_data"
    }
   ],
   "source": [
    "#plotting probability density function vs histogram for temperature\n",
    "a = df.temperature.plot(kind = 'hist', color = 'black')\n",
    "b = df.temperature.plot(kind = 'density', color = 'red', secondary_y = True)\n",
    "\n",
    "a.set_ylabel('Frequency',color='black')\n",
    "b.set_ylabel('Density',color='red')\n",
    "plt.title('probability density function vs histogram for temperature:')\n",
    "print('\\n normal test results of termperature distribution: \\n statistic= %f, p-value = %f' %st.normaltest(df.temperature))\n",
    "plt.show()\n",
    "\n",
    "#plotting probability density function vs histogram for temperatures of male and female samples\n",
    "plt.subplot(121)\n",
    "a=df.temperature[df.gender == 'M'].plot(kind = 'hist', color = 'blue')\n",
    "b=df.temperature[df.gender == 'M'].plot(kind = 'density', color = 'red', secondary_y = True)\n",
    "a.set_ylabel('Frequency',color='blue')\n",
    "b.set_ylabel('Density',color='red')\n",
    "plt.title('temperature distribution for \"Male\" sample:', color = 'blue')\n",
    "\n",
    "plt.subplot(122)\n",
    "a=df.temperature[df.gender == 'F'].plot(kind = 'hist', color = 'green')\n",
    "b=df.temperature[df.gender == 'F'].plot(kind = 'density', color = 'red', secondary_y = True)\n",
    "a.set_ylabel('Frequency',color='green')\n",
    "b.set_ylabel('Density',color='red')\n",
    "plt.title('temperature distribution for \"Female\" sample:',color = 'green')\n",
    "\n",
    "\n",
    "plt.subplots_adjust(wspace= 0.75, hspace = 1)"
   ]
  },
  {
   "cell_type": "code",
   "execution_count": 163,
   "metadata": {
    "collapsed": false
   },
   "outputs": [
    {
     "name": "stdout",
     "output_type": "stream",
     "text": [
      "\n",
      " normality test results of heart_rate distribution: \n",
      " statistic= 2.348894, p-value = 0.308990\n"
     ]
    },
    {
     "data": {
      "image/png": "[encoded data removed]",
      "text/plain": [
       "<matplotlib.figure.Figure at 0x7f364ec1acc0>"
      ]
     },
     "metadata": {},
     "output_type": "display_data"
    },
    {
     "data": {
      "image/png": "[encoded data removed]",
      "text/plain": [
       "<matplotlib.figure.Figure at 0x7f364e5a9e80>"
      ]
     },
     "metadata": {},
     "output_type": "display_data"
    }
   ],
   "source": [
    "#plotting probability density function vs histogram for heart_rate\n",
    "a = df.heart_rate.plot(kind = 'hist', color = 'black')\n",
    "b = df.heart_rate.plot(kind = 'density', color = 'red', secondary_y = True)\n",
    "\n",
    "a.set_ylabel('Frequency',color='black')\n",
    "b.set_ylabel('Density',color='red')\n",
    "plt.title('probability density function vs histogram for heart_rate:')\n",
    "print('\\n normality test results of heart_rate distribution: \\n statistic= %f, p-value = %f' %st.normaltest(df.heart_rate))\n",
    "\n",
    "plt.show()\n",
    "\n",
    "#plotting probability density function vs histogram for temperatures of male and female samples\n",
    "plt.subplot(121)\n",
    "a=df.heart_rate[df.gender == 'M'].plot(kind = 'hist', color = 'blue')\n",
    "b=df.heart_rate[df.gender == 'M'].plot(kind = 'density', color = 'red', secondary_y = True)\n",
    "a.set_ylabel('Frequency',color='blue')\n",
    "b.set_ylabel('Density',color='red')\n",
    "plt.title('heart_rate distribution for \"Male\" sample:', color = 'blue')\n",
    "\n",
    "plt.subplot(122)\n",
    "a=df.heart_rate[df.gender == 'F'].plot(kind = 'hist', color = 'green')\n",
    "b=df.heart_rate[df.gender == 'F'].plot(kind = 'density', color = 'red', secondary_y = True)\n",
    "a.set_ylabel('Frequency',color='green')\n",
    "b.set_ylabel('Density',color='red')\n",
    "plt.title('heart_rate distribution for \"Female\" sample:',color = 'green')\n",
    "\n",
    "\n",
    "plt.subplots_adjust(wspace= 0.75, hspace = 1)"
   ]
  },
  {
   "cell_type": "code",
   "execution_count": 164,
   "metadata": {
    "collapsed": false
   },
   "outputs": [
    {
     "name": "stdout",
     "output_type": "stream",
     "text": [
      "\n",
      " normal test results of termperature distribution: \n",
      " statistic= 2.703801, p-value = 0.258748\n"
     ]
    }
   ],
   "source": [
    "#testing if temperature distribution is normal\n",
    "#print('\\n skewness test results of termperature distribution: \\n',st.skewtest(df.temperature))\n",
    "#print('\\n kurtosis test results of termperature distribution: \\n',st.kurtosistest(df.temperature))\n",
    "print('\\n normal test results of termperature distribution: \\n statistic= %f, p-value = %f' %st.normaltest(df.temperature))"
   ]
  },
  {
   "cell_type": "markdown",
   "metadata": {},
   "source": [
    "**1. Is the distribution of body temperatures normal?**\n",
    "\n",
    "From above normality test  *p-value = 0.25..*  which is *greater than 0.05*, we can consider that sample temperature distibution is *fairly normal*."
   ]
  },
  {
   "cell_type": "code",
   "execution_count": 155,
   "metadata": {
    "collapsed": false
   },
   "outputs": [
    {
     "name": "stdout",
     "output_type": "stream",
     "text": [
      "\n",
      " normality test results of heart_rate distribution: \n",
      " statistic= 2.348894, p-value = 0.308990\n"
     ]
    }
   ],
   "source": [
    "#testing if heart_rate distribution is normal\n",
    "print('\\n normality test results of heart_rate distribution: \\n statistic= %f, p-value = %f' %st.normaltest(df.heart_rate))"
   ]
  },
  {
   "cell_type": "markdown",
   "metadata": {},
   "source": [
    "p-value = 0.31.. for normality test which is greater than 0.05, we can consider that sample hear_rate distibution is fairly normal."
   ]
  },
  {
   "cell_type": "markdown",
   "metadata": {},
   "source": [
    "**2. Is the sample size large? Are the observations independent?**"
   ]
  },
  {
   "cell_type": "code",
   "execution_count": 172,
   "metadata": {
    "collapsed": false
   },
   "outputs": [
    {
     "data": {
      "text/plain": [
       "130"
      ]
     },
     "execution_count": 172,
     "metadata": {},
     "output_type": "execute_result"
    }
   ],
   "source": [
    "len(df) #lenth of data set"
   ]
  },
  {
   "cell_type": "code",
   "execution_count": 170,
   "metadata": {
    "collapsed": false
   },
   "outputs": [
    {
     "data": {
      "text/html": [
       "<div>\n",
       "<table border=\"1\" class=\"dataframe\">\n",
       "  <thead>\n",
       "    <tr style=\"text-align: right;\">\n",
       "      <th></th>\n",
       "      <th>temperature</th>\n",
       "      <th>gender</th>\n",
       "      <th>heart_rate</th>\n",
       "    </tr>\n",
       "  </thead>\n",
       "  <tbody>\n",
       "    <tr>\n",
       "      <th>75</th>\n",
       "      <td>98.8</td>\n",
       "      <td>M</td>\n",
       "      <td>78.0</td>\n",
       "    </tr>\n",
       "    <tr>\n",
       "      <th>87</th>\n",
       "      <td>98.0</td>\n",
       "      <td>M</td>\n",
       "      <td>78.0</td>\n",
       "    </tr>\n",
       "    <tr>\n",
       "      <th>127</th>\n",
       "      <td>98.2</td>\n",
       "      <td>F</td>\n",
       "      <td>73.0</td>\n",
       "    </tr>\n",
       "  </tbody>\n",
       "</table>\n",
       "</div>"
      ],
      "text/plain": [
       "     temperature gender  heart_rate\n",
       "75          98.8      M        78.0\n",
       "87          98.0      M        78.0\n",
       "127         98.2      F        73.0"
      ]
     },
     "execution_count": 170,
     "metadata": {},
     "output_type": "execute_result"
    }
   ],
   "source": [
    "df[df.duplicated() == True] #identifying duplicate observations in the dataset"
   ]
  },
  {
   "cell_type": "code",
   "execution_count": 173,
   "metadata": {
    "collapsed": false
   },
   "outputs": [
    {
     "data": {
      "text/plain": [
       "127"
      ]
     },
     "execution_count": 173,
     "metadata": {},
     "output_type": "execute_result"
    }
   ],
   "source": [
    "df_new = df[df.duplicated() == False]\n",
    "len(df_new)"
   ]
  },
  {
   "cell_type": "markdown",
   "metadata": {},
   "source": [
    "*  *Datset is large enough (n = 130)*\n",
    "\n",
    "*  *There are few duplicate observations in the data set. As the method of sampling is not mentioned in the experiment details, it is safe to remove above 3 rows from data set before further analysis.*\n",
    " \n",
    "*  *Data set is large enough(n=127) even after removing the duplicate observations.*\n"
   ]
  },
  {
   "cell_type": "markdown",
   "metadata": {},
   "source": [
    "**3. Is the true population mean really 98.6 degrees F? **\n",
    "\n",
    "    a.    Would you use a one-sample or two-sample test? Why?\n",
    "    b.    In this situation, is it appropriate to use the  tt  or  zz  statistic?\n",
    "    c.    Now try using the other test. How is the result be different? Why?"
   ]
  },
  {
   "cell_type": "code",
   "execution_count": 189,
   "metadata": {
    "collapsed": false
   },
   "outputs": [
    {
     "data": {
      "text/plain": [
       "Ttest_1sampResult(statistic=-5.3729244971656902, pvalue=3.6110261060387394e-07)"
      ]
     },
     "execution_count": 189,
     "metadata": {},
     "output_type": "execute_result"
    }
   ],
   "source": [
    "st.ttest_1samp(df_new.temperature,98.6) #one sample ttest"
   ]
  },
  {
   "cell_type": "markdown",
   "metadata": {},
   "source": [
    "**one sample - ttest results:**\n",
    "\n",
    "t-statistic ~ -5.37 and p-value ~ 3.611e-07. Since p-value is less than Alpha(0.05), we can reject Null Hypothesis.\n",
    "\n",
    "   *Hence, true populoation mean is not really 98.6 *\n",
    "   \n",
    "    a.   Used one-sample test as we need to validate the population mean(Hypothesized mean) is true with test\n",
    "         results of given sample.\n",
    "    \n",
    "    b.   in this case, we need to use z-statistic as the sample size is more than 30 and sample distribution is\n",
    "         fairly normal. However, I used t-test as t-distribution follows z-distribution when sample exceeds 30.\n",
    " \n",
    "    c.   practically t-test and z-test will give same results when sample size exceeds 30. So we can always use \n",
    "         t-test irrespective of sample size. due to this reason python and other statistical tools do not have\n",
    "         designated methods for z-test.\n",
    "    "
   ]
  },
  {
   "cell_type": "code",
   "execution_count": 245,
   "metadata": {
    "collapsed": false
   },
   "outputs": [],
   "source": [
    "#Function to calculate z-score and p-value for one-sample z-test.\n",
    "def OneSampZ(X1,H0Mu):\n",
    "    from numpy import sqrt, abs, round\n",
    "    from scipy.stats import norm\n",
    "    SE = np.std(X1)/sqrt(len(X1))\n",
    "    z = (np.mean(X1) - H0Mu)/SE\n",
    "    pval = 2*(1 - norm.cdf(abs(z)))\n",
    "    print('z_statistic = ',z,' p-value = ',pval)\n",
    "    return z, pval"
   ]
  },
  {
   "cell_type": "code",
   "execution_count": 246,
   "metadata": {
    "collapsed": false
   },
   "outputs": [
    {
     "name": "stdout",
     "output_type": "stream",
     "text": [
      "z_statistic =  -5.39420348934  p-value =  6.88281820427e-08\n"
     ]
    },
    {
     "data": {
      "text/plain": [
       "(-5.3942034893396302, 6.8828182042679487e-08)"
      ]
     },
     "execution_count": 246,
     "metadata": {},
     "output_type": "execute_result"
    }
   ],
   "source": [
    "OneSampZ(df_new.temperature,98.6) #Function call 1-sample z-test"
   ]
  },
  {
   "cell_type": "markdown",
   "metadata": {},
   "source": [
    " *Test results from z-test do not deviate much from t-test as per above results.*"
   ]
  },
  {
   "cell_type": "markdown",
   "metadata": {},
   "source": [
    "**4. At what temperature should we consider someone's temperature to be \"abnormal\"?**\n",
    "\n",
    "Start by computing the margin of error and confidence interval."
   ]
  },
  {
   "cell_type": "code",
   "execution_count": 347,
   "metadata": {
    "collapsed": false
   },
   "outputs": [],
   "source": [
    "#Function to calculate Confidence_Intervals:\n",
    "def conf_int(X1,alpha):\n",
    "    from numpy import sqrt, abs\n",
    "    from scipy.stats import norm\n",
    "    SE = np.std(X1)/sqrt(len(X1))\n",
    "    z_crit = st.t.ppf(1-alpha/2,len(X1)-1)\n",
    "    mean = np.mean(X1)\n",
    "    margin_err = z_crit*SE\n",
    "    conf_interval = (mean-margin_err,mean+margin_err)\n",
    "    \n",
    "    print('Confidence Interval: ',conf_interval,' with margin of error = %f'%(margin_err))\n",
    "    return conf_interval,margin_err\n"
   ]
  },
  {
   "cell_type": "code",
   "execution_count": 348,
   "metadata": {
    "collapsed": false
   },
   "outputs": [
    {
     "name": "stdout",
     "output_type": "stream",
     "text": [
      "Confidence Interval:  (98.117828589852905, 98.376659599123457)  with margin of error = 0.129416\n"
     ]
    },
    {
     "data": {
      "text/plain": [
       "((98.117828589852905, 98.376659599123457), 0.12941550463527807)"
      ]
     },
     "execution_count": 348,
     "metadata": {},
     "output_type": "execute_result"
    }
   ],
   "source": [
    "conf_int(df_new.temperature,0.05)#Function call for confidence interval with given error margin(alpha=0.05)"
   ]
  },
  {
   "cell_type": "markdown",
   "metadata": {},
   "source": [
    "*From above results, we can conclude that temperatures **below 98.12 and above 98.375** as abnormal*"
   ]
  },
  {
   "cell_type": "markdown",
   "metadata": {},
   "source": [
    "**5. Is there a significant difference between males and females in normal temperature?**\n",
    "\n",
    "*What test did you use and why?*\n",
    "\n",
    "*Write a story with your conclusion in the context of the original problem.*"
   ]
  },
  {
   "cell_type": "code",
   "execution_count": 255,
   "metadata": {
    "collapsed": false
   },
   "outputs": [
    {
     "data": {
      "text/plain": [
       "Ttest_indResult(statistic=-2.3374199951147494, pvalue=0.021006780908894174)"
      ]
     },
     "execution_count": 255,
     "metadata": {},
     "output_type": "execute_result"
    }
   ],
   "source": [
    "#2-sample test\n",
    "#H0: There is no significance difference in males and females normal temperatures.\n",
    "#H1: There is a significance difference in males and females normal temperatures.\n",
    "st.ttest_ind(df_new.temperature[df.gender == 'M'],df_new.temperature[df.gender == 'F'])"
   ]
  },
  {
   "cell_type": "markdown",
   "metadata": {},
   "source": [
    "*From above test results(p-val < 0.05), we can reject Null Hypothesis. Hence, conclude that there is a significance difference in males and females normal temperatures."
   ]
  },
  {
   "cell_type": "code",
   "execution_count": 345,
   "metadata": {
    "collapsed": false
   },
   "outputs": [],
   "source": [
    "#Function for Cohens-D effect-size\n",
    "\n",
    "def Cohen_D(group1, group2):\n",
    "    \"\"\"Compute Cohen's d.\n",
    "\n",
    "    group1: Series or NumPy array\n",
    "    group2: Series or NumPy array\n",
    "\n",
    "    returns: float\n",
    "    \"\"\"\n",
    "    import numpy as np\n",
    "    diff = np.abs(np.mean(group1) - np.mean(group2))\n",
    "\n",
    "    n1, n2 = len(group1), len(group2)\n",
    "    var1 = np.var(group1)\n",
    "    var2 = np.var(group2)\n",
    "\n",
    "    pooled_var = (n1 * var1 + n2 * var2) / (n1 + n2)\n",
    "    d = diff / np.sqrt(pooled_var)\n",
    "    return d\n"
   ]
  },
  {
   "cell_type": "code",
   "execution_count": 346,
   "metadata": {
    "collapsed": false
   },
   "outputs": [
    {
     "data": {
      "text/plain": [
       "0.41814336275452096"
      ]
     },
     "execution_count": 346,
     "metadata": {},
     "output_type": "execute_result"
    }
   ],
   "source": [
    "Cohen_D(df_new.temperature[df.gender == 'M'],df_new.temperature[df.gender == 'F']) #Function call for Cohen's-d "
   ]
  },
  {
   "cell_type": "markdown",
   "metadata": {},
   "source": [
    "*Larger the Cohen's D-value implies greater effect size or the difference in means is more significant.*\n",
    "\n",
    "Cohen's D value of > 0.4, indicates a significant difference in body temperatures."
   ]
  },
  {
   "cell_type": "markdown",
   "metadata": {},
   "source": [
    "**Conclusion:**\n",
    "\n",
    "*1- From above tests, we can conclude that true population mean is not 98.6.*\n",
    "\n",
    "*2- temperatures of Male sample significantly differs from Female sample.*\n",
    "\n"
   ]
  }
 ],
 "metadata": {
  "kernelspec": {
   "display_name": "Python 3",
   "language": "python",
   "name": "python3"
  },
  "language_info": {
   "codemirror_mode": {
    "name": "ipython",
    "version": 3
   },
   "file_extension": ".py",
   "mimetype": "text/x-python",
   "name": "python",
   "nbconvert_exporter": "python",
   "pygments_lexer": "ipython3",
   "version": "3.6.0"
  }
 },
 "nbformat": 4,
 "nbformat_minor": 0
}
